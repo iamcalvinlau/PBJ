{
 "cells": [
  {
   "cell_type": "markdown",
   "metadata": {},
   "source": [
    "# PBJ stands for Particles By Julia. Hopefully, this grows into a Julia-based particle simulation suite of functions and subroutines to be used for testing various particle-in-cell methods and techniques."
   ]
  },
  {
   "cell_type": "markdown",
   "metadata": {},
   "source": [
    "## These functions are designed for simulations looking at dynamics of the form\n",
    "\n",
    "# $\\frac{D}{Dt} f = C$\n",
    "\n",
    "## where \n",
    "\n",
    "# $\\frac{D}{Dt} \\equiv \\frac{\\partial}{\\partial t} + \\dot{\\vec{z}} \\cdot \\frac{\\partial}{\\partial \\vec{z}}$.\n",
    " \n",
    "## For plasmas (and particles in general), this means that\n",
    "\n",
    "# $\\vec{z} = (\\vec{x},\\vec{v})$\n",
    "\n",
    "# $\\dot{\\vec{z}} = (\\vec{v},\\vec{a})$\n"
   ]
  },
  {
   "cell_type": "markdown",
   "metadata": {},
   "source": [
    "## Operations which will be needed are:"
   ]
  },
  {
   "cell_type": "markdown",
   "metadata": {},
   "source": [
    "# (1) Momentum calculations\n",
    "\n",
    "## That is, calculations of the form\n",
    "\n",
    "# $\\int{f d^3 v}$\n",
    "\n",
    "# $\\int{\\vec{v} f d^3 v}$\n",
    "\n",
    "# $\\int{\\vec{v}\\cdot\\vec{v} f d^3 v}$\n",
    "\n",
    "# ...\n"
   ]
  },
  {
   "cell_type": "markdown",
   "metadata": {},
   "source": [
    "# (2) Trajectory evolution\n",
    "\n",
    "## That is, calculations of the form\n",
    "\n",
    "# $\\vec{z}(t+\\Delta t) \\sim \\vec{z}(t)+\\vec{z}(t)*\\Delta t$\n",
    "\n",
    "# ...\n"
   ]
  },
  {
   "cell_type": "markdown",
   "metadata": {},
   "source": [
    "## Some variations which will be needed are:"
   ]
  },
  {
   "cell_type": "markdown",
   "metadata": {},
   "source": [
    "# (1) Dimensions\n",
    "\n",
    "## That is, the simulated dimensions should be able to switch between 1D3V, 2D3V, or 3D3V, in both cartesian or cylindrical forms. This will affect the trajectories followed and fields calculated.\n"
   ]
  },
  {
   "cell_type": "markdown",
   "metadata": {},
   "source": [
    "# (2) Particle model\n",
    "\n",
    "## That is, the particle model should be able to switch between drift-kinetic, gyro-kinetic, fully-kinetic, and drift-Lorentz. This will affect the trajectories followed and fields calculated.\n"
   ]
  },
  {
   "cell_type": "markdown",
   "metadata": {},
   "source": [
    "# (3) Field model\n",
    "\n",
    "## That is, the field model should be able to switch between electrostatic and electromagnetic. This will affect the fields calculated."
   ]
  }
 ],
 "metadata": {
  "kernelspec": {
   "display_name": "Python 3",
   "language": "python",
   "name": "python3"
  },
  "language_info": {
   "codemirror_mode": {
    "name": "ipython",
    "version": 3
   },
   "file_extension": ".py",
   "mimetype": "text/x-python",
   "name": "python",
   "nbconvert_exporter": "python",
   "pygments_lexer": "ipython3",
   "version": "3.7.3"
  }
 },
 "nbformat": 4,
 "nbformat_minor": 4
}
